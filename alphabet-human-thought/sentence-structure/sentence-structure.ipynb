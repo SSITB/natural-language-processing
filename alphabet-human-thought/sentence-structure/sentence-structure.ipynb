{
 "cells": [
  {
   "cell_type": "markdown",
   "metadata": {},
   "source": [
    "# NLP: Sentence Structure\n",
    "\n",
    "These notes will be heavily based on this [book](https://www.nltk.org/book/)."
   ]
  },
  {
   "cell_type": "markdown",
   "metadata": {},
   "source": [
    "## Goals\n",
    "\n",
    "The goals of this notebook are:\n",
    "- Understand how to use a formal grammar to describe the structure of sentences\n",
    "- Use syntax trees to represent the structure of sentences\n",
    "- Understand how parser analyze sentences and build a syntax tree"
   ]
  },
  {
   "cell_type": "markdown",
   "metadata": {},
   "source": [
    "### Framework\n",
    "\n",
    "Ths framework will be of generative grammar. From Wikipedia:\n",
    "\n",
    "> Generative grammar is a linguistic theory that regards grammar as a system of rules that generates exactly those combinations of words that form grammatical sentences in a given language.\n",
    "\n",
    "In other words:\n",
    "> A language is the collection of all grammatical sentences and a grammar is a formal notation that can be used to generate the members of this set.\n",
    "\n",
    "As will be explained, grammars use recursive **productions** of the form $S \\to S \\,\\text{and}\\, S$.\n",
    "\n",
    "\n",
    "### Sentence structure and meaning\n",
    "\n",
    "Following [book](https://www.nltk.org/book/) I will use the following quote my G. Marx to illustrate ambiguities found in language:\n",
    "\n",
    "*\"While hunting in Africa, **I shot an elephant in my pajamas**. How he got into my pajamas, I don't know.\"* (G. Marx)\n",
    "\n",
    "To examine the ambiguous phrase sentence in bold we first define a grammar. About the syntax, `nltk.CFG.fromstring` returns the context-free grammar (CFG) corresponding to the input string.\n",
    "\n",
    "> In formal language theory, a context-free grammar (CFG) is a certain type of formal grammar: a set of production rules that describe all possible strings in a given formal language. Production rules are simple replacements. "
   ]
  },
  {
   "cell_type": "code",
   "execution_count": 3,
   "metadata": {},
   "outputs": [],
   "source": [
    "import nltk\n",
    "groucho_grammar = nltk.CFG.fromstring(\"\"\"\n",
    "S -> NP VP\n",
    "PP -> P NP\n",
    "NP -> Det N | Det N PP | 'I'\n",
    "VP -> V NP | VP PP\n",
    "Det -> 'an' | 'my'\n",
    "N -> 'elephant' | 'pajamas'\n",
    "V -> 'shot'\n",
    "P -> 'in'\n",
    "\"\"\")"
   ]
  },
  {
   "cell_type": "markdown",
   "metadata": {},
   "source": [
    "The meaning of this symbols can be found [here](https://github.com/marcotav/alphabet-human-thought/blob/master/images/syntactic-categories.png). Using `nltk.ChartParser` we generate:"
   ]
  },
  {
   "cell_type": "code",
   "execution_count": 6,
   "metadata": {},
   "outputs": [
    {
     "data": {
      "text/plain": [
       "['I', 'shot', 'an', 'elephant', 'in', 'my', 'pajamas']"
      ]
     },
     "execution_count": 6,
     "metadata": {},
     "output_type": "execute_result"
    }
   ],
   "source": [
    "'I shot an elephant in my pajamas'.split(' ')"
   ]
  },
  {
   "cell_type": "code",
   "execution_count": 5,
   "metadata": {},
   "outputs": [
    {
     "name": "stdout",
     "output_type": "stream",
     "text": [
      "(S\n",
      "  (NP I)\n",
      "  (VP\n",
      "    (VP (V shot) (NP (Det an) (N elephant)))\n",
      "    (PP (P in) (NP (Det my) (N pajamas)))))\n",
      "(S\n",
      "  (NP I)\n",
      "  (VP\n",
      "    (V shot)\n",
      "    (NP (Det an) (N elephant) (PP (P in) (NP (Det my) (N pajamas))))))\n"
     ]
    }
   ],
   "source": [
    "sentence = 'I shot an elephant in my pajamas'.split(' ')\n",
    "parser = nltk.ChartParser(groucho_grammar)\n",
    "for tree in parser.parse(sentence):\n",
    "    print(tree)"
   ]
  },
  {
   "cell_type": "markdown",
   "metadata": {},
   "source": [
    "A graph of the tree structure can be found [here](https://github.com/marcotav/alphabet-human-thought/blob/master/images/tree_cfg.png). The two trees differ with respect to where the shooting occured:\n",
    "- In the first the elephant was inside the pajamas and the shot is a camera shot.\n",
    "- In the second the elephant was shot with a gunby a shooter using pajamas.\n",
    "\n",
    "**We see that by identifying the structure of the sentences, the meaning becomes more easily identifiable.**"
   ]
  },
  {
   "cell_type": "code",
   "execution_count": null,
   "metadata": {},
   "outputs": [],
   "source": []
  }
 ],
 "metadata": {
  "kernelspec": {
   "display_name": "Python 3",
   "language": "python",
   "name": "python3"
  },
  "language_info": {
   "codemirror_mode": {
    "name": "ipython",
    "version": 3
   },
   "file_extension": ".py",
   "mimetype": "text/x-python",
   "name": "python",
   "nbconvert_exporter": "python",
   "pygments_lexer": "ipython3",
   "version": "3.6.4"
  }
 },
 "nbformat": 4,
 "nbformat_minor": 2
}
